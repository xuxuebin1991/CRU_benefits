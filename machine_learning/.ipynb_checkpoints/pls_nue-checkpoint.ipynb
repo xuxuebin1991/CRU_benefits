{
 "cells": [
  {
   "cell_type": "code",
   "execution_count": null,
   "metadata": {},
   "outputs": [],
   "source": [
    "%reset"
   ]
  },
  {
   "cell_type": "code",
   "execution_count": 1,
   "metadata": {},
   "outputs": [],
   "source": [
    "from sklearn.model_selection import train_test_split\n",
    "from sklearn.cross_decomposition import PLSRegression\n",
    "from sklearn.inspection import permutation_importance\n",
    "from sklearn.model_selection import GridSearchCV\n",
    "from sklearn.preprocessing import StandardScaler\n",
    "from sklearn import metrics\n",
    "import pandas as pd\n",
    "import numpy as np\n",
    "import matplotlib.pyplot as plt"
   ]
  },
  {
   "cell_type": "code",
   "execution_count": 2,
   "metadata": {},
   "outputs": [],
   "source": [
    "# 读取数据\n",
    "data = pd.read_csv('D:/1 博后期间/papers/CRU_meta-analysis/global_analysis/data_for_modeling/data_for_modeling.csv',index_col='ID') \n",
    "id_X = np.hstack((3, np.arange(8,98)))\n",
    "id_Y = np.arange(106,112)\n",
    "X = data.iloc[:,id_X]\n",
    "Y = data.iloc[:,id_Y]\n",
    "\n",
    "# 构造建模y数据，并剔除NA值\n",
    "y = Y['effect_nue']\n",
    "id_nona = y[y.isnull().values==False].index.tolist()\n",
    "#id_crop = data.Crop_type[data.Crop_type=='Maize'].index.tolist()\n",
    "#id_sel = list(set(id_nona).intersection(set(id_crop)))\n",
    "id_sel = id_nona \n",
    "\n",
    "X_sel = X.iloc[id_sel, :]\n",
    "y_sel = y [id_sel]\n",
    "\n",
    "id_r = data.Crop_type[data.Crop_type=='Paddy rice'].index.tolist()\n",
    "id_rice =  list(set(id_nona).intersection(set(id_r)))\n",
    "x_rice = X.iloc[id_rice, :]\n",
    "y_rice = y [id_rice]                \n",
    "              \n",
    "id_w = data.Crop_type[data.Crop_type=='Wheat'].index.tolist()\n",
    "id_wheat =  list(set(id_nona).intersection(set(id_w)))\n",
    "x_wheat = X.iloc[id_wheat, :]\n",
    "y_wheat = y [id_wheat]  \n",
    "                 \n",
    "id_m = data.Crop_type[data.Crop_type=='Maize'].index.tolist()\n",
    "id_maize =  list(set(id_nona).intersection(set(id_m)))\n",
    "x_maize = X.iloc[id_maize, :]\n",
    "y_maize = y [id_maize]                 \n",
    "\n",
    "id_o = data.Crop_type[data.Crop_type=='Others'].index.tolist()\n",
    "id_others =  list(set(id_nona).intersection(set(id_o)))\n",
    "x_others = X.iloc[id_others, :]\n",
    "y_others = y [id_others]\n",
    "\n",
    "\n",
    "# 标准化，神经网络一定要标准化\n",
    "scaler = StandardScaler()\n",
    "scaler.fit(X_sel)\n",
    "\n",
    "X_sel = scaler.transform(X_sel)\n",
    "y_sel = y_sel.values\n",
    "\n",
    "x_rice = scaler.transform(x_rice)\n",
    "y_rice = y_rice.values\n",
    "\n",
    "x_wheat = scaler.transform(x_wheat)\n",
    "y_wheat = y_wheat.values\n",
    "                  \n",
    "x_maize = scaler.transform(x_maize)\n",
    "y_maize = y_maize.values\n",
    "               \n",
    "x_others = scaler.transform(x_others)\n",
    "y_others = y_others.values\n",
    "\n",
    "\n",
    "# 划分数据集\n",
    "x_train_entire, x_test_entire,  y_train_entire, y_test_entire = train_test_split(X_sel, y_sel, test_size = 0.3, random_state = 0)\n",
    "\n",
    "x_train_rice, x_test_rice,  y_train_rice, y_test_rice = train_test_split(x_rice, y_rice, test_size = 0.3, random_state = 0)\n",
    "\n",
    "x_train_wheat, x_test_wheat,  y_train_wheat, y_test_wheat = train_test_split(x_wheat, y_wheat, test_size = 0.3, random_state = 0)\n",
    "\n",
    "x_train_maize, x_test_maize,  y_train_maize, y_test_maize = train_test_split(x_maize, y_maize, test_size = 0.3, random_state = 0)"
   ]
  },
  {
   "cell_type": "markdown",
   "metadata": {},
   "source": [
    "# Paddy rice"
   ]
  },
  {
   "cell_type": "code",
   "execution_count": 3,
   "metadata": {},
   "outputs": [
    {
     "data": {
      "text/plain": [
       "GridSearchCV(cv=10, estimator=PLSRegression(), n_jobs=1,\n",
       "             param_grid=[{'n_components': array([ 1,  2,  3,  4,  5,  6,  7,  8,  9, 10, 11, 12, 13, 14, 15, 16, 17,\n",
       "       18, 19])}],\n",
       "             scoring='neg_mean_squared_error')"
      ]
     },
     "execution_count": 3,
     "metadata": {},
     "output_type": "execute_result"
    }
   ],
   "source": [
    "# 优化模型\n",
    "param_grid = [\n",
    "    {'n_components': np.arange(1, 20, 1)}\n",
    "] \n",
    "clf = GridSearchCV(PLSRegression(), param_grid, scoring=\"neg_mean_squared_error\", n_jobs=1, cv=10) # n_jobs表示CPU线程数，-1表示全部CPU\n",
    "clf.fit(x_train_rice, y_train_rice)"
   ]
  },
  {
   "cell_type": "code",
   "execution_count": 4,
   "metadata": {},
   "outputs": [
    {
     "name": "stdout",
     "output_type": "stream",
     "text": [
      "   param_n_components  mean_test_score\n",
      "0                   1        35.543081\n",
      "1                   2        34.651069\n",
      "2                   3        34.121981\n",
      "3                   4        34.345702\n",
      "4                   5        34.820496\n",
      "5                   6        34.799482\n",
      "6                   7        34.062385\n",
      "7                   8        34.296486\n",
      "8                   9        34.959594\n",
      "9                  10        35.636203\n",
      "10                 11        35.739524\n",
      "11                 12        35.710787\n",
      "12                 13        36.134313\n",
      "13                 14        35.978777\n",
      "14                 15        35.448764\n",
      "15                 16        34.992711\n",
      "16                 17        34.501865\n",
      "17                 18        34.082230\n",
      "18                 19        34.154893\n"
     ]
    }
   ],
   "source": [
    "cv_result = pd.DataFrame(clf.cv_results_)\n",
    "cv_result = cv_result.iloc[:, [4,16]]\n",
    "cv_result[\"mean_test_score\"] = np.sqrt(np.absolute(cv_result[\"mean_test_score\"]))\n",
    "print(cv_result)\n",
    "\n",
    "cv_result.to_csv('D:\\\\1 博后期间\\\\papers\\\\CRU_meta-analysis\\\\global_analysis\\\\data_for_modeling\\\\modeling\\\\cross-validation\\\\results\\\\cv_pls_nue_rice.csv')"
   ]
  },
  {
   "cell_type": "code",
   "execution_count": 5,
   "metadata": {},
   "outputs": [
    {
     "name": "stdout",
     "output_type": "stream",
     "text": [
      "{'n_components': 7}\n",
      "{'mean_fit_time': array([0.00089743, 0.00110972, 0.0014962 , 0.00209458, 0.00229387,\n",
      "       0.00279255, 0.00309167, 0.00329115, 0.0038897 , 0.00418868,\n",
      "       0.00458772, 0.00495613, 0.0052866 , 0.00538497, 0.00596967,\n",
      "       0.00678086, 0.0070452 , 0.00747888, 0.00748034]), 'std_fit_time': array([0.00029914, 0.0002976 , 0.00049889, 0.00029919, 0.00045703,\n",
      "       0.00039897, 0.0002991 , 0.0004571 , 0.00029926, 0.00039862,\n",
      "       0.00048868, 0.00038268, 0.00045749, 0.00048791, 0.00044103,\n",
      "       0.00039785, 0.00065812, 0.00049984, 0.00049857]), 'mean_score_time': array([2.99263000e-04, 1.99437141e-04, 2.99143791e-04, 9.97066498e-05,\n",
      "       1.99460983e-04, 9.97304916e-05, 9.97066498e-05, 2.99215317e-04,\n",
      "       9.97543335e-05, 4.98700142e-04, 1.99460983e-04, 9.97304916e-05,\n",
      "       1.98960304e-04, 4.99367714e-04, 3.14354897e-04, 1.99556351e-04,\n",
      "       9.94205475e-05, 1.99532509e-04, 1.00302696e-04]), 'std_score_time': array([0.00045713, 0.00039887, 0.00045695, 0.00029912, 0.00039892,\n",
      "       0.00029919, 0.00029912, 0.00045706, 0.00029926, 0.0004987 ,\n",
      "       0.00039892, 0.00029919, 0.00039792, 0.00049938, 0.00044778,\n",
      "       0.00039911, 0.00029826, 0.00039907, 0.00030091]), 'param_n_components': masked_array(data=[1, 2, 3, 4, 5, 6, 7, 8, 9, 10, 11, 12, 13, 14, 15, 16,\n",
      "                   17, 18, 19],\n",
      "             mask=[False, False, False, False, False, False, False, False,\n",
      "                   False, False, False, False, False, False, False, False,\n",
      "                   False, False, False],\n",
      "       fill_value='?',\n",
      "            dtype=object), 'params': [{'n_components': 1}, {'n_components': 2}, {'n_components': 3}, {'n_components': 4}, {'n_components': 5}, {'n_components': 6}, {'n_components': 7}, {'n_components': 8}, {'n_components': 9}, {'n_components': 10}, {'n_components': 11}, {'n_components': 12}, {'n_components': 13}, {'n_components': 14}, {'n_components': 15}, {'n_components': 16}, {'n_components': 17}, {'n_components': 18}, {'n_components': 19}], 'split0_test_score': array([-723.60719482, -884.53793842, -764.93910239, -774.72701891,\n",
      "       -818.11035689, -805.45387476, -756.02872558, -733.32262318,\n",
      "       -806.36669954, -756.90962513, -751.86775916, -711.13273541,\n",
      "       -592.15743603, -480.7599085 , -466.12327913, -362.25608129,\n",
      "       -363.17575228, -360.72357129, -391.29975508]), 'split1_test_score': array([-1395.26072514, -1059.37441682, -1113.58815272, -1151.06282227,\n",
      "       -1308.17905658, -1296.55046471, -1210.95158877, -1069.23155943,\n",
      "       -1138.78171607, -1106.27365697, -1121.25102962, -1126.93986535,\n",
      "       -1180.8191104 , -1279.96174536, -1335.79802319, -1276.65666202,\n",
      "       -1352.89526958, -1247.33025389, -1240.43760083]), 'split2_test_score': array([ -727.48833128,  -766.4559028 ,  -679.27862594,  -702.32236114,\n",
      "        -823.98379411,  -774.93572855,  -620.53653378,  -746.8166089 ,\n",
      "        -856.33885685, -1248.78215814, -1405.81041116, -1254.13611175,\n",
      "       -1112.49713399, -1131.49089064, -1155.41156876, -1156.36108983,\n",
      "       -1206.89087926, -1270.81034243, -1302.22038514]), 'split3_test_score': array([ -830.03709204,  -795.09806799,  -926.15151547,  -990.25771082,\n",
      "       -1010.10264004, -1122.51844172, -1152.38558337, -1130.81419408,\n",
      "        -980.6753881 , -1088.54891025, -1014.89569442, -1077.62225897,\n",
      "       -1253.48618204, -1356.90438632, -1511.59261248, -1513.02301354,\n",
      "       -1464.04868409, -1450.61191977, -1489.89864364]), 'split4_test_score': array([-1591.08132025, -1177.64790175, -1296.42234946, -1502.37421906,\n",
      "       -1650.76358614, -1585.94512102, -1388.77606839, -1342.6488758 ,\n",
      "       -1291.85515315, -1271.70239056, -1115.26672833, -1137.34183259,\n",
      "       -1109.65873166,  -961.28026304,  -768.88706169,  -786.89492968,\n",
      "        -749.70182675,  -747.51735914,  -750.82791536]), 'split5_test_score': array([-2583.53658234, -2400.6551613 , -2310.7201074 , -2430.26511091,\n",
      "       -2382.92472461, -2411.45621984, -2544.57846888, -2770.644911  ,\n",
      "       -2959.15793332, -3156.68186115, -3148.41770805, -3336.46520951,\n",
      "       -3392.9542412 , -3385.5892885 , -3068.27524034, -2910.59831961,\n",
      "       -2764.13589066, -2655.30299778, -2591.40721009]), 'split6_test_score': array([-1486.13079372, -1672.84303096, -1359.79162233, -1163.20617894,\n",
      "       -1130.47368057, -1360.48666326, -1290.42128701, -1316.39065363,\n",
      "       -1593.42027929, -1762.80410393, -2062.62580407, -2155.27867404,\n",
      "       -2245.22688288, -2407.59122607, -2350.9814807 , -2304.48250207,\n",
      "       -2130.30219332, -1999.05602876, -1995.87840959]), 'split7_test_score': array([-1695.33640716, -1580.23584226, -1497.56590889, -1429.08829106,\n",
      "       -1315.7034381 , -1212.90109238, -1150.54635557, -1240.46988381,\n",
      "       -1301.63766804, -1184.12226191, -1127.42192822,  -997.39283223,\n",
      "       -1116.26682131, -1049.33372569, -1069.85176956, -1071.44798257,\n",
      "       -1137.70065783, -1185.90208062, -1210.66445765]), 'split8_test_score': array([-754.23437055, -895.67876322, -765.7587773 , -819.77552126,\n",
      "       -871.78396905, -851.08052696, -731.45486741, -517.45090759,\n",
      "       -553.97616779, -469.96423288, -425.9954414 , -388.83558744,\n",
      "       -378.8108838 , -347.16045478, -359.11276796, -346.38586857,\n",
      "       -325.34012657, -311.85844717, -274.55846945]), 'split9_test_score': array([-846.39334208, -774.43870594, -928.88004128, -833.19344327,\n",
      "       -812.64400373, -688.71103762, -756.78115616, -894.69901734,\n",
      "       -739.52258586, -653.60079206, -599.58350735, -567.45793166,\n",
      "       -675.00802489, -544.65200243, -480.11500417, -516.79194888,\n",
      "       -409.59533362, -386.87131034, -418.37425665]), 'mean_test_score': array([-1263.31061594, -1200.69657315, -1164.30962032, -1179.62726776,\n",
      "       -1212.46692498, -1211.00391708, -1160.24606349, -1176.24892348,\n",
      "       -1222.1732448 , -1269.9389993 , -1277.31360118, -1275.2603039 ,\n",
      "       -1305.68854482, -1294.47238913, -1256.6148808 , -1224.4898398 ,\n",
      "       -1190.3786614 , -1161.59843112, -1166.55671035]), 'std_test_score': array([574.73698951, 505.48384386, 463.60515878, 490.78627526,\n",
      "       470.31135434, 487.45504613, 528.16650181, 591.68822635,\n",
      "       649.42702195, 717.86141643, 757.38739584, 823.75413211,\n",
      "       844.70976059, 890.80543249, 828.69627705, 795.62687934,\n",
      "       755.04288714, 719.097284  , 705.52275433]), 'rank_test_score': array([14,  8,  3,  6, 10,  9,  1,  5, 11, 15, 17, 16, 19, 18, 13, 12,  7,\n",
      "        2,  4])}\n"
     ]
    },
    {
     "data": {
      "text/plain": [
       "PLSRegression(n_components=7)"
      ]
     },
     "execution_count": 5,
     "metadata": {},
     "output_type": "execute_result"
    }
   ],
   "source": [
    "# 查看、构造最优模型并训练\n",
    "print(clf.best_params_)\n",
    "print(clf.cv_results_)\n",
    "model_rice = clf.best_estimator_\n",
    "model_rice.fit(x_train_rice, y_train_rice)"
   ]
  },
  {
   "cell_type": "code",
   "execution_count": 7,
   "metadata": {},
   "outputs": [
    {
     "data": {
      "text/html": [
       "<div>\n",
       "<style scoped>\n",
       "    .dataframe tbody tr th:only-of-type {\n",
       "        vertical-align: middle;\n",
       "    }\n",
       "\n",
       "    .dataframe tbody tr th {\n",
       "        vertical-align: top;\n",
       "    }\n",
       "\n",
       "    .dataframe thead th {\n",
       "        text-align: right;\n",
       "    }\n",
       "</style>\n",
       "<table border=\"1\" class=\"dataframe\">\n",
       "  <thead>\n",
       "    <tr style=\"text-align: right;\">\n",
       "      <th></th>\n",
       "      <th>mae_train</th>\n",
       "      <th>r2_train</th>\n",
       "      <th>rmse_train</th>\n",
       "      <th>rpd_train</th>\n",
       "      <th>rpiq_train</th>\n",
       "      <th>mae_test</th>\n",
       "      <th>r2_test</th>\n",
       "      <th>rmse_test</th>\n",
       "      <th>rpd_test</th>\n",
       "      <th>rpiq_test</th>\n",
       "    </tr>\n",
       "  </thead>\n",
       "  <tbody>\n",
       "    <tr>\n",
       "      <th>0</th>\n",
       "      <td>20.336223</td>\n",
       "      <td>0.435293</td>\n",
       "      <td>27.584605</td>\n",
       "      <td>1.330725</td>\n",
       "      <td>1.358556</td>\n",
       "      <td>27.925271</td>\n",
       "      <td>0.033414</td>\n",
       "      <td>37.515771</td>\n",
       "      <td>1.017138</td>\n",
       "      <td>1.156633</td>\n",
       "    </tr>\n",
       "  </tbody>\n",
       "</table>\n",
       "</div>"
      ],
      "text/plain": [
       "   mae_train  r2_train  rmse_train  rpd_train  rpiq_train   mae_test  \\\n",
       "0  20.336223  0.435293   27.584605   1.330725    1.358556  27.925271   \n",
       "\n",
       "    r2_test  rmse_test  rpd_test  rpiq_test  \n",
       "0  0.033414  37.515771  1.017138   1.156633  "
      ]
     },
     "execution_count": 7,
     "metadata": {},
     "output_type": "execute_result"
    }
   ],
   "source": [
    "model_rice.fit(x_train_rice, y_train_rice)\n",
    "# 预测\n",
    "y_train_rice_pred = model_rice.predict(x_train_rice)\n",
    "y_test_rice_pred = model_rice.predict(x_test_rice)\n",
    "\n",
    "# 预测结果汇总\n",
    "result = pd.DataFrame(columns=['mae_train', 'r2_train', 'rmse_train', 'rpd_train', 'rpiq_train', 'mae_test', 'r2_test', 'rmse_test', 'rpd_test', 'rpiq_test'])\n",
    "result['mae_train'] = [metrics.mean_absolute_error(y_train_rice, y_train_rice_pred)]\n",
    "result[\"r2_train\"] = metrics.r2_score(y_train_rice, y_train_rice_pred)\n",
    "result['rmse_train'] = np.sqrt(metrics.mean_squared_error(y_train_rice, y_train_rice_pred))\n",
    "result['rpd_train'] = np.std(y_train_rice)/np.sqrt(metrics.mean_squared_error(y_train_rice, y_train_rice_pred)) # 加[0]是为了去掉表头\n",
    "result['rpiq_train'] = np.std(y_train_rice)/np.sqrt(metrics.mean_squared_error(y_train_rice, y_train_rice_pred)) # 加[0]是为了去掉表头\n",
    "result['rpiq_train'] = (np.percentile(y_train_rice, (25, 75))[1]-np.percentile(y_train_rice, (25, 75))[0])/np.sqrt(metrics.mean_squared_error(y_train_rice, y_train_rice_pred))\n",
    "\n",
    "result['mae_test'] = metrics.mean_absolute_error(y_test_rice, y_test_rice_pred)\n",
    "result['r2_test'] = metrics.r2_score(y_test_rice, y_test_rice_pred)\n",
    "result['rmse_test'] = np.sqrt(metrics.mean_squared_error(y_test_rice, y_test_rice_pred))\n",
    "result['rpd_test'] = np.std(y_test_rice)/np.sqrt(metrics.mean_squared_error(y_test_rice, y_test_rice_pred)) # 加[0]是为了去掉表头\n",
    "result['rpiq_test'] = (np.percentile(y_test_rice, (25, 75))[1]-np.percentile(y_test_rice, (25, 75))[0])/np.sqrt(metrics.mean_squared_error(y_test_rice, y_test_rice_pred))\n",
    "\n",
    "result"
   ]
  },
  {
   "cell_type": "code",
   "execution_count": 8,
   "metadata": {},
   "outputs": [],
   "source": [
    "result.to_csv('D:\\\\1 博后期间\\\\papers\\\\CRU_meta-analysis\\\\global_analysis\\\\data_for_modeling\\\\modeling\\\\cross-validation\\\\results\\\\performance_pls_nue_rice.csv')"
   ]
  },
  {
   "cell_type": "code",
   "execution_count": 9,
   "metadata": {
    "scrolled": false
   },
   "outputs": [
    {
     "data": {
      "text/plain": [
       "[<matplotlib.lines.Line2D at 0x24c53c27888>]"
      ]
     },
     "execution_count": 9,
     "metadata": {},
     "output_type": "execute_result"
    },
    {
     "data": {
      "image/png": "[encoded data removed]",
      "text/plain": [
       "<Figure size 432x288 with 1 Axes>"
      ]
     },
     "metadata": {
      "needs_background": "light"
     },
     "output_type": "display_data"
    }
   ],
   "source": [
    "# 拟合预测值和实际值\n",
    "f_train = np.polyfit(np.array(y_train_rice).flatten(), y_train_rice_pred, 1).flatten()\n",
    "p_train = np.poly1d(f_train)\n",
    "f_test = np.polyfit(np.array(y_test_rice).flatten(), y_test_rice_pred, 1).flatten()\n",
    "p_test = np.poly1d(f_test)\n",
    "\n",
    "# 绘制图像\n",
    "plt.scatter(y_train_rice, y_train_rice_pred)\n",
    "plt.scatter(y_test_rice, y_test_rice_pred)\n",
    "plt.plot([0, 60], [0, 60], color='black', linestyle='--')\n",
    "plt.plot([0, 60], p_train([0, 60]))\n",
    "plt.plot([0, 60], p_test([0, 60]))"
   ]
  },
  {
   "cell_type": "markdown",
   "metadata": {},
   "source": [
    "# wheat"
   ]
  },
  {
   "cell_type": "code",
   "execution_count": 10,
   "metadata": {},
   "outputs": [
    {
     "data": {
      "text/plain": [
       "GridSearchCV(cv=10, estimator=PLSRegression(), n_jobs=1,\n",
       "             param_grid=[{'n_components': array([ 1,  2,  3,  4,  5,  6,  7,  8,  9, 10, 11, 12, 13, 14, 15, 16, 17,\n",
       "       18, 19])}],\n",
       "             scoring='neg_mean_squared_error')"
      ]
     },
     "execution_count": 10,
     "metadata": {},
     "output_type": "execute_result"
    }
   ],
   "source": [
    "# 优化模型\n",
    "param_grid = [\n",
    "    {'n_components': np.arange(1, 20, 1)}\n",
    "] \n",
    "clf = GridSearchCV(PLSRegression(), param_grid, scoring=\"neg_mean_squared_error\", n_jobs=1, cv=10) # n_jobs表示CPU线程数，-1表示全部CPU\n",
    "clf.fit(x_train_wheat, y_train_wheat)"
   ]
  },
  {
   "cell_type": "code",
   "execution_count": 11,
   "metadata": {},
   "outputs": [
    {
     "name": "stdout",
     "output_type": "stream",
     "text": [
      "   param_n_components  mean_test_score\n",
      "0                   1        25.622553\n",
      "1                   2        24.597894\n",
      "2                   3        23.928330\n",
      "3                   4        24.802839\n",
      "4                   5        25.118643\n",
      "5                   6        25.408432\n",
      "6                   7        26.477421\n",
      "7                   8        27.179632\n",
      "8                   9        27.452405\n",
      "9                  10        27.774366\n",
      "10                 11        27.540733\n",
      "11                 12        28.040566\n",
      "12                 13        28.370595\n",
      "13                 14        27.800283\n",
      "14                 15        28.141148\n",
      "15                 16        28.600935\n",
      "16                 17        30.817994\n",
      "17                 18        31.728992\n",
      "18                 19        31.839867\n",
      "{'n_components': 3}\n",
      "{'mean_fit_time': array([0.00089762, 0.00139627, 0.00179508, 0.00199451, 0.00222158,\n",
      "       0.00282862, 0.00289226, 0.00319145, 0.00368998, 0.00398932,\n",
      "       0.00438826, 0.00478721, 0.00508642, 0.00522304, 0.00608084,\n",
      "       0.00618024, 0.00647833, 0.00677927, 0.00718138]), 'std_fit_time': array([2.99207517e-04, 4.88879447e-04, 3.99005604e-04, 3.40529844e-07,\n",
      "       4.58004337e-04, 4.30732477e-04, 2.99215602e-04, 3.98826674e-04,\n",
      "       4.57251735e-04, 3.40529844e-07, 4.88626312e-04, 3.98874354e-04,\n",
      "       2.99135916e-04, 3.98648869e-04, 3.00533716e-04, 3.93293525e-04,\n",
      "       6.67903830e-04, 3.96893083e-04, 3.91533840e-04]), 'mean_score_time': array([1.99413300e-04, 1.99484825e-04, 9.98258591e-05, 9.98258591e-05,\n",
      "       2.99167633e-04, 2.99239159e-04, 9.97304916e-05, 2.99191475e-04,\n",
      "       9.97304916e-05, 2.99263000e-04, 9.97304916e-05, 2.99239159e-04,\n",
      "       2.99191475e-04, 9.97304916e-05, 9.98258591e-05, 1.99460983e-04,\n",
      "       1.98984146e-04, 4.98485565e-04, 4.94527817e-04]), 'std_score_time': array([0.00039883, 0.00039897, 0.00029948, 0.00029948, 0.00045699,\n",
      "       0.0004571 , 0.00029919, 0.00045702, 0.00029919, 0.00045713,\n",
      "       0.00029919, 0.0004571 , 0.00045702, 0.00029919, 0.00029948,\n",
      "       0.00039892, 0.00039797, 0.00049849, 0.00049457]), 'param_n_components': masked_array(data=[1, 2, 3, 4, 5, 6, 7, 8, 9, 10, 11, 12, 13, 14, 15, 16,\n",
      "                   17, 18, 19],\n",
      "             mask=[False, False, False, False, False, False, False, False,\n",
      "                   False, False, False, False, False, False, False, False,\n",
      "                   False, False, False],\n",
      "       fill_value='?',\n",
      "            dtype=object), 'params': [{'n_components': 1}, {'n_components': 2}, {'n_components': 3}, {'n_components': 4}, {'n_components': 5}, {'n_components': 6}, {'n_components': 7}, {'n_components': 8}, {'n_components': 9}, {'n_components': 10}, {'n_components': 11}, {'n_components': 12}, {'n_components': 13}, {'n_components': 14}, {'n_components': 15}, {'n_components': 16}, {'n_components': 17}, {'n_components': 18}, {'n_components': 19}], 'split0_test_score': array([-1080.67970071,  -853.22222065,  -820.6664251 ,  -772.45140259,\n",
      "        -749.88533854,  -729.67048682,  -748.16072017,  -704.16774763,\n",
      "        -758.13827591,  -899.90623335,  -818.94365173,  -796.44086174,\n",
      "        -795.28040436,  -696.82202715,  -755.66382878,  -884.71001857,\n",
      "        -890.09397794,  -745.50106653,  -758.30808849]), 'split1_test_score': array([-263.18442803, -197.5220303 , -235.54683879, -239.61377253,\n",
      "       -215.5078419 , -266.72851337, -296.54261864, -227.52049927,\n",
      "       -207.96300499, -214.53137581, -266.69625988, -255.33210473,\n",
      "       -272.00294967, -259.80370857, -232.37076357, -208.89654637,\n",
      "       -189.29758161, -182.61485388, -187.60586726]), 'split2_test_score': array([ -963.50259392,  -976.29626042, -1001.80982092, -1187.84459285,\n",
      "       -1238.83986821, -1285.49931457, -1426.00311423, -1479.67519096,\n",
      "       -1506.23876623, -1458.7460616 , -1397.3235199 , -1411.36735629,\n",
      "       -1414.16753779, -1302.56154082, -1289.24507616, -1284.87783007,\n",
      "       -1335.80890025, -1318.23861299, -1349.8048604 ]), 'split3_test_score': array([-634.3228076 , -475.31730528, -416.89881674, -473.73887856,\n",
      "       -424.78732019, -401.31874241, -479.87637561, -572.21093831,\n",
      "       -518.83236926, -511.2065658 , -567.56194318, -588.87660275,\n",
      "       -598.7372568 , -606.05562525, -590.11497151, -611.89144246,\n",
      "       -607.08860724, -681.17231241, -707.11826218]), 'split4_test_score': array([-625.83674099, -565.83967519, -525.13976373, -532.10804915,\n",
      "       -557.79145972, -450.3248464 , -421.71609492, -565.35785134,\n",
      "       -645.70704955, -555.08630928, -451.48614724, -380.92846286,\n",
      "       -361.99230956, -357.69785208, -331.12316369, -321.19789987,\n",
      "       -367.07840005, -418.98761495, -475.75908865]), 'split5_test_score': array([-575.63107354, -517.59246815, -396.78241083, -323.99618536,\n",
      "       -360.09495377, -388.70753955, -385.48464298, -441.4092681 ,\n",
      "       -434.38965997, -467.25867572, -424.80310081, -489.29156986,\n",
      "       -507.47639309, -522.20461201, -540.2860678 , -565.29790249,\n",
      "       -566.46109427, -571.29342114, -578.79019172]), 'split6_test_score': array([-695.67421082, -559.2492338 , -372.99712398, -328.57714282,\n",
      "       -393.88703303, -329.2687165 , -319.12604646, -276.8424482 ,\n",
      "       -255.52883566, -304.66893341, -264.88446935, -310.50068187,\n",
      "       -311.56931864, -283.59170809, -260.76081292, -227.74056037,\n",
      "       -212.71870963, -152.652826  , -132.25648232]), 'split7_test_score': array([ -74.3133803 , -151.16572192, -158.56815116, -208.38587591,\n",
      "       -221.98918847, -222.30281256, -215.52801455, -207.60840865,\n",
      "       -222.44511856, -254.84106789, -241.08700137, -215.10569568,\n",
      "       -200.48943561, -181.68069992, -191.48206412, -195.90489154,\n",
      "       -260.11661507, -289.26368352, -271.41009642]), 'split8_test_score': array([-430.30810448, -433.2195481 , -406.76579572, -354.03322835,\n",
      "       -307.01604714, -313.69972482, -261.1743143 , -246.22997618,\n",
      "       -214.76089629, -253.9471862 , -257.4896933 , -237.556774  ,\n",
      "       -264.35733435, -253.02475166, -290.51818385, -306.85568133,\n",
      "       -353.72529475, -362.67505116, -354.63381079]), 'split9_test_score': array([-1221.69943042, -1321.13930026, -1390.4748382 , -1731.05908324,\n",
      "       -1839.663157  , -2068.36342104, -2456.92634026, -2666.30155489,\n",
      "       -2772.34156832, -2793.96188891, -2894.64416424, -3177.33314098,\n",
      "       -3322.83349211, -3265.11488589, -3437.67716167, -3572.76214751,\n",
      "       -4715.09839457, -5344.89018239, -5322.08433186]), 'mean_test_score': array([ -656.51524708,  -605.05637641,  -572.56499852,  -615.18082114,\n",
      "        -630.9462208 ,  -645.58841181,  -701.05382821,  -738.73238835,\n",
      "        -753.63455447,  -771.4154298 ,  -758.4919951 ,  -786.27332507,\n",
      "        -804.8906432 ,  -772.85574114,  -791.92420941,  -818.01349206,\n",
      "        -949.74875754, -1006.7289625 , -1013.77710801]), 'std_test_score': array([ 338.81219625,  337.92415753,  363.93047609,  465.44924501,\n",
      "        496.67434696,  560.13762336,  676.47019167,  735.61091783,\n",
      "        769.98200559,  764.80326435,  788.74482767,  868.04732348,\n",
      "        906.82261612,  887.86503556,  936.60083576,  976.31834452,\n",
      "       1299.48547184, 1482.02982961, 1475.04654362]), 'rank_test_score': array([ 6,  2,  1,  3,  4,  5,  7,  8,  9, 11, 10, 13, 15, 12, 14, 16, 17,\n",
      "       18, 19])}\n"
     ]
    },
    {
     "data": {
      "text/plain": [
       "PLSRegression(n_components=3)"
      ]
     },
     "execution_count": 11,
     "metadata": {},
     "output_type": "execute_result"
    }
   ],
   "source": [
    "cv_result = pd.DataFrame(clf.cv_results_)\n",
    "cv_result = cv_result.iloc[:, [4,16]]\n",
    "cv_result[\"mean_test_score\"] = np.sqrt(np.absolute(cv_result[\"mean_test_score\"]))\n",
    "print(cv_result)\n",
    "\n",
    "cv_result.to_csv('D:\\\\1 博后期间\\\\papers\\\\CRU_meta-analysis\\\\global_analysis\\\\data_for_modeling\\\\modeling\\\\cross-validation\\\\results\\\\cv_pls_nue_wheat.csv')\n",
    "\n",
    "# 查看、构造最优模型并训练\n",
    "print(clf.best_params_)\n",
    "print(clf.cv_results_)\n",
    "model_wheat = clf.best_estimator_\n",
    "model_wheat.fit(x_train_wheat, y_train_wheat)"
   ]
  },
  {
   "cell_type": "code",
   "execution_count": 12,
   "metadata": {},
   "outputs": [
    {
     "data": {
      "text/html": [
       "<div>\n",
       "<style scoped>\n",
       "    .dataframe tbody tr th:only-of-type {\n",
       "        vertical-align: middle;\n",
       "    }\n",
       "\n",
       "    .dataframe tbody tr th {\n",
       "        vertical-align: top;\n",
       "    }\n",
       "\n",
       "    .dataframe thead th {\n",
       "        text-align: right;\n",
       "    }\n",
       "</style>\n",
       "<table border=\"1\" class=\"dataframe\">\n",
       "  <thead>\n",
       "    <tr style=\"text-align: right;\">\n",
       "      <th></th>\n",
       "      <th>mae_train</th>\n",
       "      <th>r2_train</th>\n",
       "      <th>rmse_train</th>\n",
       "      <th>rpd_train</th>\n",
       "      <th>rpiq_train</th>\n",
       "      <th>mae_test</th>\n",
       "      <th>r2_test</th>\n",
       "      <th>rmse_test</th>\n",
       "      <th>rpd_test</th>\n",
       "      <th>rpiq_test</th>\n",
       "    </tr>\n",
       "  </thead>\n",
       "  <tbody>\n",
       "    <tr>\n",
       "      <th>0</th>\n",
       "      <td>14.070766</td>\n",
       "      <td>0.43787</td>\n",
       "      <td>20.056504</td>\n",
       "      <td>1.333772</td>\n",
       "      <td>1.669353</td>\n",
       "      <td>16.852809</td>\n",
       "      <td>0.309599</td>\n",
       "      <td>27.038671</td>\n",
       "      <td>1.203509</td>\n",
       "      <td>1.557179</td>\n",
       "    </tr>\n",
       "  </tbody>\n",
       "</table>\n",
       "</div>"
      ],
      "text/plain": [
       "   mae_train  r2_train  rmse_train  rpd_train  rpiq_train   mae_test  \\\n",
       "0  14.070766   0.43787   20.056504   1.333772    1.669353  16.852809   \n",
       "\n",
       "    r2_test  rmse_test  rpd_test  rpiq_test  \n",
       "0  0.309599  27.038671  1.203509   1.557179  "
      ]
     },
     "execution_count": 12,
     "metadata": {},
     "output_type": "execute_result"
    }
   ],
   "source": [
    "model_wheat.fit(x_train_wheat, y_train_wheat)\n",
    "# 预测\n",
    "y_train_wheat_pred = model_wheat.predict(x_train_wheat)\n",
    "y_test_wheat_pred = model_wheat.predict(x_test_wheat)\n",
    "\n",
    "# 预测结果汇总\n",
    "result = pd.DataFrame(columns=['mae_train', 'r2_train', 'rmse_train', 'rpd_train', 'rpiq_train', 'mae_test', 'r2_test', 'rmse_test', 'rpd_test', 'rpiq_test'])\n",
    "result['mae_train'] = [metrics.mean_absolute_error(y_train_wheat, y_train_wheat_pred)]\n",
    "result[\"r2_train\"] = metrics.r2_score(y_train_wheat, y_train_wheat_pred)\n",
    "result['rmse_train'] = np.sqrt(metrics.mean_squared_error(y_train_wheat, y_train_wheat_pred))\n",
    "result['rpd_train'] = np.std(y_train_wheat)/np.sqrt(metrics.mean_squared_error(y_train_wheat, y_train_wheat_pred)) # 加[0]是为了去掉表头\n",
    "result['rpiq_train'] = np.std(y_train_wheat)/np.sqrt(metrics.mean_squared_error(y_train_wheat, y_train_wheat_pred)) # 加[0]是为了去掉表头\n",
    "result['rpiq_train'] = (np.percentile(y_train_wheat, (25, 75))[1]-np.percentile(y_train_wheat, (25, 75))[0])/np.sqrt(metrics.mean_squared_error(y_train_wheat, y_train_wheat_pred))\n",
    "\n",
    "result['mae_test'] = metrics.mean_absolute_error(y_test_wheat, y_test_wheat_pred)\n",
    "result['r2_test'] = metrics.r2_score(y_test_wheat, y_test_wheat_pred)\n",
    "result['rmse_test'] = np.sqrt(metrics.mean_squared_error(y_test_wheat, y_test_wheat_pred))\n",
    "result['rpd_test'] = np.std(y_test_wheat)/np.sqrt(metrics.mean_squared_error(y_test_wheat, y_test_wheat_pred)) # 加[0]是为了去掉表头\n",
    "result['rpiq_test'] = (np.percentile(y_test_wheat, (25, 75))[1]-np.percentile(y_test_wheat, (25, 75))[0])/np.sqrt(metrics.mean_squared_error(y_test_wheat, y_test_wheat_pred))\n",
    "\n",
    "result"
   ]
  },
  {
   "cell_type": "code",
   "execution_count": 13,
   "metadata": {},
   "outputs": [],
   "source": [
    "result.to_csv('D:\\\\1 博后期间\\\\papers\\\\CRU_meta-analysis\\\\global_analysis\\\\data_for_modeling\\\\modeling\\\\cross-validation\\\\results\\\\performance_pls_nue_wheat.csv')"
   ]
  },
  {
   "cell_type": "code",
   "execution_count": 14,
   "metadata": {},
   "outputs": [
    {
     "data": {
      "text/plain": [
       "[<matplotlib.lines.Line2D at 0x24c53d9fa48>]"
      ]
     },
     "execution_count": 14,
     "metadata": {},
     "output_type": "execute_result"
    },
    {
     "data": {
      "image/png": "[encoded data removed]",
      "text/plain": [
       "<Figure size 432x288 with 1 Axes>"
      ]
     },
     "metadata": {
      "needs_background": "light"
     },
     "output_type": "display_data"
    }
   ],
   "source": [
    "# 拟合预测值和实际值\n",
    "f_train = np.polyfit(np.array(y_train_wheat).flatten(), y_train_wheat_pred, 1).flatten()\n",
    "p_train = np.poly1d(f_train)\n",
    "f_test = np.polyfit(np.array(y_test_wheat).flatten(), y_test_wheat_pred, 1).flatten()\n",
    "p_test = np.poly1d(f_test)\n",
    "\n",
    "# 绘制图像\n",
    "plt.scatter(y_train_wheat, y_train_wheat_pred)\n",
    "plt.scatter(y_test_wheat, y_test_wheat_pred)\n",
    "plt.plot([0, 60], [0, 60], color='black', linestyle='--')\n",
    "plt.plot([0, 60], p_train([0, 60]))\n",
    "plt.plot([0, 60], p_test([0, 60]))"
   ]
  },
  {
   "cell_type": "markdown",
   "metadata": {},
   "source": [
    "# Maize"
   ]
  },
  {
   "cell_type": "code",
   "execution_count": 15,
   "metadata": {},
   "outputs": [
    {
     "data": {
      "text/plain": [
       "GridSearchCV(cv=10, estimator=PLSRegression(), n_jobs=1,\n",
       "             param_grid=[{'n_components': array([ 1,  2,  3,  4,  5,  6,  7,  8,  9, 10, 11, 12, 13, 14, 15, 16, 17,\n",
       "       18, 19])}],\n",
       "             scoring='neg_mean_squared_error')"
      ]
     },
     "execution_count": 15,
     "metadata": {},
     "output_type": "execute_result"
    }
   ],
   "source": [
    "# 优化模型\n",
    "param_grid = [\n",
    "    {'n_components': np.arange(1, 20, 1)}\n",
    "] \n",
    "clf = GridSearchCV(PLSRegression(), param_grid, scoring=\"neg_mean_squared_error\", n_jobs=1, cv=10) # n_jobs表示CPU线程数，-1表示全部CPU\n",
    "clf.fit(x_train_maize, y_train_maize)"
   ]
  },
  {
   "cell_type": "code",
   "execution_count": 16,
   "metadata": {},
   "outputs": [
    {
     "name": "stdout",
     "output_type": "stream",
     "text": [
      "   param_n_components  mean_test_score\n",
      "0                   1        31.835539\n",
      "1                   2        30.661081\n",
      "2                   3        30.248141\n",
      "3                   4        29.957204\n",
      "4                   5        29.867824\n",
      "5                   6        29.342478\n",
      "6                   7        29.256832\n",
      "7                   8        29.207200\n",
      "8                   9        29.143218\n",
      "9                  10        29.500643\n",
      "10                 11        30.000395\n",
      "11                 12        30.512743\n",
      "12                 13        31.077433\n",
      "13                 14        31.220518\n",
      "14                 15        31.835013\n",
      "15                 16        32.267114\n",
      "16                 17        32.692188\n",
      "17                 18        33.255668\n",
      "18                 19        33.725006\n",
      "{'n_components': 9}\n",
      "{'mean_fit_time': array([0.00099728, 0.00139616, 0.00179508, 0.00209424, 0.00249333,\n",
      "       0.00267701, 0.00309517, 0.00339165, 0.0037879 , 0.00409474,\n",
      "       0.00438781, 0.00498652, 0.00528662, 0.00518289, 0.00618339,\n",
      "       0.00648177, 0.00678093, 0.0069809 , 0.00767355]), 'std_fit_time': array([2.91026965e-07, 4.88977016e-04, 3.98946108e-04, 2.99144817e-04,\n",
      "       4.98628673e-04, 4.94512478e-04, 2.98877644e-04, 4.87345517e-04,\n",
      "       5.91355732e-04, 2.96995837e-04, 4.88805487e-04, 2.00611915e-06,\n",
      "       4.56801636e-04, 4.01102017e-04, 3.92120652e-04, 4.94090903e-04,\n",
      "       3.94042199e-04, 4.45911254e-04, 4.52917140e-04]), 'mean_score_time': array([9.97781754e-05, 2.99358368e-04, 1.99460983e-04, 9.97304916e-05,\n",
      "       0.00000000e+00, 2.99191475e-04, 9.97066498e-05, 1.99437141e-04,\n",
      "       3.98015976e-04, 1.96599960e-04, 3.99398804e-04, 1.99627876e-04,\n",
      "       0.00000000e+00, 5.00679016e-04, 9.96828079e-05, 3.00145149e-04,\n",
      "       3.00288200e-04, 3.99374962e-04, 1.99294090e-04]), 'std_score_time': array([0.00029933, 0.00045728, 0.00039892, 0.00029919, 0.        ,\n",
      "       0.00045702, 0.00029912, 0.00039887, 0.00048748, 0.00039326,\n",
      "       0.00048916, 0.00039926, 0.        , 0.00050075, 0.00029905,\n",
      "       0.00045849, 0.00045871, 0.00048913, 0.00039859]), 'param_n_components': masked_array(data=[1, 2, 3, 4, 5, 6, 7, 8, 9, 10, 11, 12, 13, 14, 15, 16,\n",
      "                   17, 18, 19],\n",
      "             mask=[False, False, False, False, False, False, False, False,\n",
      "                   False, False, False, False, False, False, False, False,\n",
      "                   False, False, False],\n",
      "       fill_value='?',\n",
      "            dtype=object), 'params': [{'n_components': 1}, {'n_components': 2}, {'n_components': 3}, {'n_components': 4}, {'n_components': 5}, {'n_components': 6}, {'n_components': 7}, {'n_components': 8}, {'n_components': 9}, {'n_components': 10}, {'n_components': 11}, {'n_components': 12}, {'n_components': 13}, {'n_components': 14}, {'n_components': 15}, {'n_components': 16}, {'n_components': 17}, {'n_components': 18}, {'n_components': 19}], 'split0_test_score': array([-875.08988376, -784.78801994, -834.36582281, -610.84892441,\n",
      "       -638.39663625, -546.17668448, -622.73863613, -606.64487615,\n",
      "       -499.65797786, -553.81540572, -596.54999216, -564.42474673,\n",
      "       -678.4600084 , -640.2223746 , -675.9796276 , -715.66919934,\n",
      "       -756.33600358, -803.51255422, -859.64585564]), 'split1_test_score': array([ -723.9970307 , -1048.47296314,  -837.60929411, -1129.01206314,\n",
      "       -1425.54094412, -1577.78528161, -1762.59237054, -1808.80179823,\n",
      "       -1713.89686601, -1969.28068548, -2110.71501084, -2330.61641436,\n",
      "       -2426.98748349, -2608.18925494, -2627.06878138, -2668.08145351,\n",
      "       -2851.91617947, -2922.06693266, -3085.32033567]), 'split2_test_score': array([-738.96877125, -642.55252256, -458.70505272, -442.59874147,\n",
      "       -376.45446679, -277.66030611, -254.4090132 , -295.91923516,\n",
      "       -316.4568863 , -369.20893722, -382.6071694 , -409.12083883,\n",
      "       -433.90534795, -406.72962946, -443.91468858, -436.44088028,\n",
      "       -447.48207864, -417.14377926, -412.7927192 ]), 'split3_test_score': array([-668.23519976, -572.15470862, -505.98431362, -379.18069599,\n",
      "       -368.19630238, -464.72933086, -418.58539693, -455.52450241,\n",
      "       -430.33335612, -466.24483465, -474.72026804, -504.33033033,\n",
      "       -497.95229274, -451.48485453, -375.79364211, -364.2309507 ,\n",
      "       -371.93525842, -367.25803005, -358.96612442]), 'split4_test_score': array([-1514.78894389, -1510.67458591, -1353.64757699, -1602.75543889,\n",
      "       -1511.59929611, -1252.03858238, -1184.16601723, -1318.56373726,\n",
      "       -1354.16071532, -1295.48306882, -1345.95160303, -1326.13056518,\n",
      "       -1292.70139884, -1287.43637414, -1279.23664812, -1263.28937228,\n",
      "       -1294.18414679, -1364.54827887, -1346.25038115]), 'split5_test_score': array([-795.17751301, -478.00931176, -652.5792526 , -551.86114507,\n",
      "       -643.26165327, -522.33592375, -529.84338992, -459.95150429,\n",
      "       -504.56049453, -465.07774482, -482.03578106, -532.17589445,\n",
      "       -565.62995447, -589.1765792 , -615.31996119, -587.3917933 ,\n",
      "       -458.83583252, -422.50087564, -435.01585717]), 'split6_test_score': array([-1997.3392525 , -1906.73814485, -1872.71166169, -1709.06028557,\n",
      "       -1486.60327548, -1357.12769082, -1318.93002586, -1231.87979674,\n",
      "       -1335.48095549, -1240.40351558, -1242.88343312, -1220.02699739,\n",
      "       -1268.79249807, -1199.57486715, -1311.35282265, -1304.10317004,\n",
      "       -1329.28919275, -1387.83428543, -1487.61216965]), 'split7_test_score': array([ -843.52870882,  -662.36806533,  -592.13971856,  -644.18129181,\n",
      "        -758.04318011,  -908.66232491,  -908.3292935 ,  -841.47310965,\n",
      "        -835.71092333,  -791.38985413,  -849.69218789,  -895.41609498,\n",
      "        -936.57433647,  -947.23073956, -1062.91467583, -1094.23546554,\n",
      "       -1111.58607168, -1164.45494866, -1179.40392072]), 'split8_test_score': array([-549.82719721, -378.00598485, -459.55486796, -399.69247442,\n",
      "       -330.81364263, -434.88236757, -412.4511538 , -381.31750152,\n",
      "       -367.50899682, -363.609198  , -370.35907663, -385.2176821 ,\n",
      "       -389.59315826, -360.62029204, -402.27758912, -426.94531623,\n",
      "       -440.34050927, -510.74874236, -499.2700101 ]), 'split9_test_score': array([-1428.06320122, -1417.25439497, -1582.20298141, -1505.14990693,\n",
      "       -1381.95947499, -1268.41143151, -1147.57706074, -1130.52948593,\n",
      "       -1135.50440497, -1188.36628328, -1144.72237974, -1142.81512198,\n",
      "       -1167.47191737, -1256.54245887, -1340.82206748, -1551.27913369,\n",
      "       -1625.88640101, -1699.32605829, -1709.48300366]), 'mean_test_score': array([-1013.50157021,  -940.10187019,  -914.95005425,  -897.43409677,\n",
      "        -892.08688721,  -860.9809924 ,  -855.96223578,  -853.06055473,\n",
      "        -849.32715768,  -870.28795277,  -900.02369019,  -931.02746863,\n",
      "        -965.8068396 ,  -974.72074245, -1013.46805041, -1041.16667349,\n",
      "       -1068.77916741, -1105.93944854, -1137.37603774]), 'std_test_score': array([444.99267987, 485.18225858, 482.00693958, 506.76023385,\n",
      "       475.5417955 , 444.27353302, 462.86393471, 475.07895297,\n",
      "       474.7161146 , 506.79036541, 532.96775951, 573.62392006,\n",
      "       587.51779549, 642.71234056, 651.89531558, 673.90060067,\n",
      "       731.20719622, 757.17144659, 799.90122572]), 'rank_test_score': array([15, 11,  9,  7,  6,  4,  3,  2,  1,  5,  8, 10, 12, 13, 14, 16, 17,\n",
      "       18, 19])}\n"
     ]
    },
    {
     "data": {
      "text/plain": [
       "PLSRegression(n_components=9)"
      ]
     },
     "execution_count": 16,
     "metadata": {},
     "output_type": "execute_result"
    }
   ],
   "source": [
    "cv_result = pd.DataFrame(clf.cv_results_)\n",
    "cv_result = cv_result.iloc[:, [4,16]]\n",
    "cv_result[\"mean_test_score\"] = np.sqrt(np.absolute(cv_result[\"mean_test_score\"]))\n",
    "print(cv_result)\n",
    "\n",
    "cv_result.to_csv('D:\\\\1 博后期间\\\\papers\\\\CRU_meta-analysis\\\\global_analysis\\\\data_for_modeling\\\\modeling\\\\cross-validation\\\\results\\\\cv_pls_nue_maize.csv')\n",
    "\n",
    "# 查看、构造最优模型并训练\n",
    "print(clf.best_params_)\n",
    "print(clf.cv_results_)\n",
    "model_maize = clf.best_estimator_\n",
    "model_maize.fit(x_train_maize, y_train_maize)"
   ]
  },
  {
   "cell_type": "code",
   "execution_count": 17,
   "metadata": {},
   "outputs": [
    {
     "data": {
      "text/html": [
       "<div>\n",
       "<style scoped>\n",
       "    .dataframe tbody tr th:only-of-type {\n",
       "        vertical-align: middle;\n",
       "    }\n",
       "\n",
       "    .dataframe tbody tr th {\n",
       "        vertical-align: top;\n",
       "    }\n",
       "\n",
       "    .dataframe thead th {\n",
       "        text-align: right;\n",
       "    }\n",
       "</style>\n",
       "<table border=\"1\" class=\"dataframe\">\n",
       "  <thead>\n",
       "    <tr style=\"text-align: right;\">\n",
       "      <th></th>\n",
       "      <th>mae_train</th>\n",
       "      <th>r2_train</th>\n",
       "      <th>rmse_train</th>\n",
       "      <th>rpd_train</th>\n",
       "      <th>rpiq_train</th>\n",
       "      <th>mae_test</th>\n",
       "      <th>r2_test</th>\n",
       "      <th>rmse_test</th>\n",
       "      <th>rpd_test</th>\n",
       "      <th>rpiq_test</th>\n",
       "    </tr>\n",
       "  </thead>\n",
       "  <tbody>\n",
       "    <tr>\n",
       "      <th>0</th>\n",
       "      <td>15.356485</td>\n",
       "      <td>0.568408</td>\n",
       "      <td>22.729611</td>\n",
       "      <td>1.522171</td>\n",
       "      <td>1.84627</td>\n",
       "      <td>23.94308</td>\n",
       "      <td>-0.558473</td>\n",
       "      <td>33.408872</td>\n",
       "      <td>0.801033</td>\n",
       "      <td>0.797047</td>\n",
       "    </tr>\n",
       "  </tbody>\n",
       "</table>\n",
       "</div>"
      ],
      "text/plain": [
       "   mae_train  r2_train  rmse_train  rpd_train  rpiq_train  mae_test   r2_test  \\\n",
       "0  15.356485  0.568408   22.729611   1.522171     1.84627  23.94308 -0.558473   \n",
       "\n",
       "   rmse_test  rpd_test  rpiq_test  \n",
       "0  33.408872  0.801033   0.797047  "
      ]
     },
     "execution_count": 17,
     "metadata": {},
     "output_type": "execute_result"
    }
   ],
   "source": [
    "model_maize.fit(x_train_maize, y_train_maize)\n",
    "# 预测\n",
    "y_train_maize_pred = model_maize.predict(x_train_maize)\n",
    "y_test_maize_pred = model_maize.predict(x_test_maize)\n",
    "\n",
    "# 预测结果汇总\n",
    "result = pd.DataFrame(columns=['mae_train', 'r2_train', 'rmse_train', 'rpd_train', 'rpiq_train', 'mae_test', 'r2_test', 'rmse_test', 'rpd_test', 'rpiq_test'])\n",
    "result['mae_train'] = [metrics.mean_absolute_error(y_train_maize, y_train_maize_pred)]\n",
    "result[\"r2_train\"] = metrics.r2_score(y_train_maize, y_train_maize_pred)\n",
    "result['rmse_train'] = np.sqrt(metrics.mean_squared_error(y_train_maize, y_train_maize_pred))\n",
    "result['rpd_train'] = np.std(y_train_maize)/np.sqrt(metrics.mean_squared_error(y_train_maize, y_train_maize_pred)) # 加[0]是为了去掉表头\n",
    "result['rpiq_train'] = np.std(y_train_maize)/np.sqrt(metrics.mean_squared_error(y_train_maize, y_train_maize_pred)) # 加[0]是为了去掉表头\n",
    "result['rpiq_train'] = (np.percentile(y_train_maize, (25, 75))[1]-np.percentile(y_train_maize, (25, 75))[0])/np.sqrt(metrics.mean_squared_error(y_train_maize, y_train_maize_pred))\n",
    "\n",
    "result['mae_test'] = metrics.mean_absolute_error(y_test_maize, y_test_maize_pred)\n",
    "result['r2_test'] = metrics.r2_score(y_test_maize, y_test_maize_pred)\n",
    "result['rmse_test'] = np.sqrt(metrics.mean_squared_error(y_test_maize, y_test_maize_pred))\n",
    "result['rpd_test'] = np.std(y_test_maize)/np.sqrt(metrics.mean_squared_error(y_test_maize, y_test_maize_pred)) # 加[0]是为了去掉表头\n",
    "result['rpiq_test'] = (np.percentile(y_test_maize, (25, 75))[1]-np.percentile(y_test_maize, (25, 75))[0])/np.sqrt(metrics.mean_squared_error(y_test_maize, y_test_maize_pred))\n",
    "\n",
    "result"
   ]
  },
  {
   "cell_type": "code",
   "execution_count": 18,
   "metadata": {},
   "outputs": [],
   "source": [
    "result.to_csv('D:\\\\1 博后期间\\\\papers\\\\CRU_meta-analysis\\\\global_analysis\\\\data_for_modeling\\\\modeling\\\\cross-validation\\\\results\\\\performance_pls_nue_maize.csv')"
   ]
  },
  {
   "cell_type": "code",
   "execution_count": 19,
   "metadata": {},
   "outputs": [
    {
     "data": {
      "text/plain": [
       "[<matplotlib.lines.Line2D at 0x24c57f9c5c8>]"
      ]
     },
     "execution_count": 19,
     "metadata": {},
     "output_type": "execute_result"
    },
    {
     "data": {
      "image/png": "[encoded data removed]",
      "text/plain": [
       "<Figure size 432x288 with 1 Axes>"
      ]
     },
     "metadata": {
      "needs_background": "light"
     },
     "output_type": "display_data"
    }
   ],
   "source": [
    "# 拟合预测值和实际值\n",
    "f_train = np.polyfit(np.array(y_train_maize).flatten(), y_train_maize_pred, 1).flatten()\n",
    "p_train = np.poly1d(f_train)\n",
    "f_test = np.polyfit(np.array(y_test_maize).flatten(), y_test_maize_pred, 1).flatten()\n",
    "p_test = np.poly1d(f_test)\n",
    "\n",
    "# 绘制图像\n",
    "plt.scatter(y_train_maize, y_train_maize_pred)\n",
    "plt.scatter(y_test_maize, y_test_maize_pred)\n",
    "plt.plot([0, 60], [0, 60], color='black', linestyle='--')\n",
    "plt.plot([0, 60], p_train([0, 60]))\n",
    "plt.plot([0, 60], p_test([0, 60]))"
   ]
  },
  {
   "cell_type": "markdown",
   "metadata": {},
   "source": [
    "# entire"
   ]
  },
  {
   "cell_type": "code",
   "execution_count": 20,
   "metadata": {},
   "outputs": [
    {
     "data": {
      "text/plain": [
       "GridSearchCV(cv=10, estimator=PLSRegression(), n_jobs=1,\n",
       "             param_grid=[{'n_components': array([ 1,  2,  3,  4,  5,  6,  7,  8,  9, 10, 11, 12, 13, 14, 15, 16, 17,\n",
       "       18, 19])}],\n",
       "             scoring='neg_mean_squared_error')"
      ]
     },
     "execution_count": 20,
     "metadata": {},
     "output_type": "execute_result"
    }
   ],
   "source": [
    "# 优化模型\n",
    "param_grid = [\n",
    "    {'n_components': np.arange(1, 20, 1)}\n",
    "] \n",
    "clf = GridSearchCV(PLSRegression(), param_grid, scoring=\"neg_mean_squared_error\", n_jobs=1, cv=10) # n_jobs表示CPU线程数，-1表示全部CPU\n",
    "clf.fit(x_train_entire, y_train_entire)"
   ]
  },
  {
   "cell_type": "code",
   "execution_count": 21,
   "metadata": {},
   "outputs": [
    {
     "name": "stdout",
     "output_type": "stream",
     "text": [
      "{'n_components': 15}\n",
      "{'mean_fit_time': array([0.00119734, 0.00171516, 0.00214741, 0.00239358, 0.00289226,\n",
      "       0.00319149, 0.00398934, 0.00408907, 0.00433476, 0.00479047,\n",
      "       0.00538683, 0.00582087, 0.0062834 , 0.0067791 , 0.00708063,\n",
      "       0.00717857, 0.00778182, 0.00827761, 0.00937161]), 'std_fit_time': array([3.98875038e-04, 4.73788259e-04, 3.23277526e-04, 4.88393080e-04,\n",
      "       2.99216001e-04, 3.98981756e-04, 1.19209290e-07, 2.99549539e-04,\n",
      "       4.47169615e-04, 4.02099660e-04, 4.87745481e-04, 4.21284405e-04,\n",
      "       4.56046386e-04, 3.97628359e-04, 5.36762619e-04, 4.02746886e-04,\n",
      "       3.92768021e-04, 4.57976235e-04, 4.91034825e-04]), 'mean_score_time': array([4.98247147e-04, 9.97304916e-05, 1.99532509e-04, 1.99508667e-04,\n",
      "       0.00000000e+00, 9.97304916e-05, 0.00000000e+00, 2.99191475e-04,\n",
      "       4.98104095e-04, 1.96623802e-04, 1.99007988e-04, 3.62706184e-04,\n",
      "       9.98020172e-05, 0.00000000e+00, 2.98619270e-04, 7.00664520e-04,\n",
      "       1.99937820e-04, 1.99413300e-04, 1.99532509e-04]), 'std_score_time': array([0.00049825, 0.00029919, 0.00039907, 0.00039902, 0.        ,\n",
      "       0.00029919, 0.        , 0.00045702, 0.00049811, 0.0003933 ,\n",
      "       0.00039802, 0.00045507, 0.00029941, 0.        , 0.00045615,\n",
      "       0.00045879, 0.00039988, 0.00039883, 0.00039907]), 'param_n_components': masked_array(data=[1, 2, 3, 4, 5, 6, 7, 8, 9, 10, 11, 12, 13, 14, 15, 16,\n",
      "                   17, 18, 19],\n",
      "             mask=[False, False, False, False, False, False, False, False,\n",
      "                   False, False, False, False, False, False, False, False,\n",
      "                   False, False, False],\n",
      "       fill_value='?',\n",
      "            dtype=object), 'params': [{'n_components': 1}, {'n_components': 2}, {'n_components': 3}, {'n_components': 4}, {'n_components': 5}, {'n_components': 6}, {'n_components': 7}, {'n_components': 8}, {'n_components': 9}, {'n_components': 10}, {'n_components': 11}, {'n_components': 12}, {'n_components': 13}, {'n_components': 14}, {'n_components': 15}, {'n_components': 16}, {'n_components': 17}, {'n_components': 18}, {'n_components': 19}], 'split0_test_score': array([-862.81526087, -800.17645286, -898.57168411, -790.68159395,\n",
      "       -671.90720852, -660.16631932, -690.54744384, -657.99925886,\n",
      "       -730.92355854, -724.02891563, -723.12824256, -713.7384847 ,\n",
      "       -656.68706513, -639.58739392, -666.13943999, -720.70658087,\n",
      "       -730.47329151, -750.52582399, -767.2591013 ]), 'split1_test_score': array([-1421.78874718, -1365.80320973, -1386.33925898, -1324.17344123,\n",
      "       -1352.71815683, -1262.55015682, -1269.50940373, -1232.84824358,\n",
      "       -1241.89110236, -1316.80640312, -1304.69238916, -1271.18915965,\n",
      "       -1259.05850287, -1276.48348384, -1279.05428643, -1329.82197591,\n",
      "       -1357.54308797, -1346.89668667, -1335.5394312 ]), 'split2_test_score': array([ -795.3606231 ,  -748.72045857,  -812.823494  ,  -861.07543067,\n",
      "        -793.00034976,  -790.15988665,  -795.92472478,  -790.61400919,\n",
      "        -898.5987431 ,  -934.15860986,  -974.22885884,  -960.82730844,\n",
      "        -963.85004485, -1013.06136459, -1034.63683619, -1067.40456158,\n",
      "       -1084.38368097, -1071.36172707, -1138.64980862]), 'split3_test_score': array([-1469.76460857, -1443.03942953, -1336.92662686, -1288.70542613,\n",
      "       -1348.55001139, -1394.30717827, -1370.54121313, -1384.31237808,\n",
      "       -1415.77713232, -1362.8386428 , -1460.09435831, -1488.35520873,\n",
      "       -1509.43096343, -1343.36606878, -1349.6821663 , -1249.98987054,\n",
      "       -1238.95049729, -1162.25466593, -1197.50104997]), 'split4_test_score': array([-1183.82493525, -1227.88299058, -1284.41474584, -1379.11935284,\n",
      "       -1359.09513184, -1390.60505057, -1332.4639239 , -1365.42222095,\n",
      "       -1328.10999257, -1268.45665145, -1271.68153929, -1364.81170911,\n",
      "       -1402.78961149, -1397.78273416, -1410.22426713, -1385.95275004,\n",
      "       -1387.42500101, -1393.37533419, -1377.32532225]), 'split5_test_score': array([-921.71891758, -957.19288045, -961.64943656, -926.76339466,\n",
      "       -955.29992418, -912.13735944, -930.31305376, -898.0991239 ,\n",
      "       -931.88929039, -900.23500937, -903.3923495 , -941.82759601,\n",
      "       -953.0562439 , -954.77290372, -957.58019594, -921.99853119,\n",
      "       -911.4434192 , -917.16818072, -925.50115935]), 'split6_test_score': array([-1417.96980491, -1369.37210261, -1347.90683574, -1374.87045117,\n",
      "       -1347.54865105, -1372.69995   , -1391.45615675, -1390.3584525 ,\n",
      "       -1352.74919203, -1357.07942961, -1284.3039791 , -1206.68319906,\n",
      "       -1176.41600913, -1073.53086799, -1027.47489908,  -986.01026201,\n",
      "        -998.87438706, -1009.84544071, -1014.31629326]), 'split7_test_score': array([-1061.64749982, -1090.32115073,  -907.02584032,  -964.27401457,\n",
      "        -994.38699117,  -985.76672525,  -984.85426424, -1034.8181639 ,\n",
      "       -1099.30934652, -1047.5488908 , -1052.89890631, -1075.07427244,\n",
      "       -1074.30415921, -1030.50904314, -1022.99195575, -1062.3298901 ,\n",
      "       -1076.82024535, -1048.8459792 , -1031.73808676]), 'split8_test_score': array([-1534.55200474, -1529.64017993, -1459.82597541, -1451.01220041,\n",
      "       -1457.92281998, -1471.12151544, -1405.35840161, -1387.69844064,\n",
      "       -1385.54764742, -1308.33722158, -1298.71472908, -1319.1385838 ,\n",
      "       -1292.71141811, -1202.53815645, -1194.43488418, -1200.32257355,\n",
      "       -1183.77378467, -1200.25602508, -1215.98707987]), 'split9_test_score': array([-1459.53293077, -1398.07383862, -1431.02670378, -1357.4401018 ,\n",
      "       -1380.36384827, -1367.79531713, -1375.57254694, -1439.94076446,\n",
      "       -1410.08200569, -1432.05868843, -1448.01145776, -1509.88447347,\n",
      "       -1492.09574944, -1537.3519415 , -1522.00098279, -1580.65296842,\n",
      "       -1568.52193291, -1586.14814606, -1528.28327139]), 'mean_test_score': array([-1212.89753328, -1193.02226936, -1182.65106016, -1171.81154074,\n",
      "       -1166.0793093 , -1160.73094589, -1154.65411327, -1158.21110561,\n",
      "       -1179.4878011 , -1165.15484626, -1172.11468099, -1185.15299954,\n",
      "       -1178.03997676, -1146.89839581, -1146.42199138, -1150.51899642,\n",
      "       -1153.82093279, -1148.66780096, -1153.2100604 ]), 'std_test_score': array([268.58200464, 264.18347528, 241.61043974, 240.5069927 ,\n",
      "       269.57494713, 279.68107467, 261.22610574, 274.55071306,\n",
      "       235.65045779, 230.93013423, 232.87925146, 244.81738246,\n",
      "       256.46531467, 245.96805299, 240.84732509, 237.4189257 ,\n",
      "       234.29124335, 232.53663129, 215.66701553]), 'rank_test_score': array([19, 18, 16, 12, 11,  9,  7,  8, 15, 10, 13, 17, 14,  2,  1,  4,  6,\n",
      "        3,  5])}\n"
     ]
    },
    {
     "data": {
      "text/plain": [
       "PLSRegression(n_components=15)"
      ]
     },
     "execution_count": 21,
     "metadata": {},
     "output_type": "execute_result"
    }
   ],
   "source": [
    "cv_result = pd.DataFrame(clf.cv_results_)\n",
    "cv_result = cv_result.iloc[:, [4,16]]\n",
    "cv_result[\"mean_test_score\"] = np.sqrt(np.absolute(cv_result[\"mean_test_score\"]))\n",
    "cv_result\n",
    "\n",
    "cv_result.to_csv('D:\\\\1 博后期间\\\\papers\\\\CRU_meta-analysis\\\\global_analysis\\\\data_for_modeling\\\\modeling\\\\cross-validation\\\\results\\\\cv_pls_nue_entire.csv')\n",
    "\n",
    "# 查看、构造最优模型并训练\n",
    "print(clf.best_params_)\n",
    "print(clf.cv_results_)\n",
    "model_entire = clf.best_estimator_\n",
    "model_entire.fit(x_train_entire, y_train_entire)"
   ]
  },
  {
   "cell_type": "code",
   "execution_count": 22,
   "metadata": {},
   "outputs": [
    {
     "data": {
      "text/html": [
       "<div>\n",
       "<style scoped>\n",
       "    .dataframe tbody tr th:only-of-type {\n",
       "        vertical-align: middle;\n",
       "    }\n",
       "\n",
       "    .dataframe tbody tr th {\n",
       "        vertical-align: top;\n",
       "    }\n",
       "\n",
       "    .dataframe thead th {\n",
       "        text-align: right;\n",
       "    }\n",
       "</style>\n",
       "<table border=\"1\" class=\"dataframe\">\n",
       "  <thead>\n",
       "    <tr style=\"text-align: right;\">\n",
       "      <th></th>\n",
       "      <th>mae_train</th>\n",
       "      <th>r2_train</th>\n",
       "      <th>rmse_train</th>\n",
       "      <th>rpd_train</th>\n",
       "      <th>rpiq_train</th>\n",
       "      <th>mae_test</th>\n",
       "      <th>r2_test</th>\n",
       "      <th>rmse_test</th>\n",
       "      <th>rpd_test</th>\n",
       "      <th>rpiq_test</th>\n",
       "    </tr>\n",
       "  </thead>\n",
       "  <tbody>\n",
       "    <tr>\n",
       "      <th>0</th>\n",
       "      <td>20.493491</td>\n",
       "      <td>0.323081</td>\n",
       "      <td>29.186868</td>\n",
       "      <td>1.215435</td>\n",
       "      <td>1.311474</td>\n",
       "      <td>23.354826</td>\n",
       "      <td>0.042855</td>\n",
       "      <td>31.538452</td>\n",
       "      <td>1.022142</td>\n",
       "      <td>1.159041</td>\n",
       "    </tr>\n",
       "  </tbody>\n",
       "</table>\n",
       "</div>"
      ],
      "text/plain": [
       "   mae_train  r2_train  rmse_train  rpd_train  rpiq_train   mae_test  \\\n",
       "0  20.493491  0.323081   29.186868   1.215435    1.311474  23.354826   \n",
       "\n",
       "    r2_test  rmse_test  rpd_test  rpiq_test  \n",
       "0  0.042855  31.538452  1.022142   1.159041  "
      ]
     },
     "execution_count": 22,
     "metadata": {},
     "output_type": "execute_result"
    }
   ],
   "source": [
    "model_entire.fit(x_train_entire, y_train_entire)\n",
    "# 预测\n",
    "y_train_entire_pred = model_entire.predict(x_train_entire)\n",
    "y_test_entire_pred = model_entire.predict(x_test_entire)\n",
    "\n",
    "# 预测结果汇总\n",
    "result = pd.DataFrame(columns=['mae_train', 'r2_train', 'rmse_train', 'rpd_train', 'rpiq_train', 'mae_test', 'r2_test', 'rmse_test', 'rpd_test', 'rpiq_test'])\n",
    "result['mae_train'] = [metrics.mean_absolute_error(y_train_entire, y_train_entire_pred)]\n",
    "result[\"r2_train\"] = metrics.r2_score(y_train_entire, y_train_entire_pred)\n",
    "result['rmse_train'] = np.sqrt(metrics.mean_squared_error(y_train_entire, y_train_entire_pred))\n",
    "result['rpd_train'] = np.std(y_train_entire)/np.sqrt(metrics.mean_squared_error(y_train_entire, y_train_entire_pred)) # 加[0]是为了去掉表头\n",
    "result['rpiq_train'] = np.std(y_train_entire)/np.sqrt(metrics.mean_squared_error(y_train_entire, y_train_entire_pred)) # 加[0]是为了去掉表头\n",
    "result['rpiq_train'] = (np.percentile(y_train_entire, (25, 75))[1]-np.percentile(y_train_entire, (25, 75))[0])/np.sqrt(metrics.mean_squared_error(y_train_entire, y_train_entire_pred))\n",
    "\n",
    "result['mae_test'] = metrics.mean_absolute_error(y_test_entire, y_test_entire_pred)\n",
    "result['r2_test'] = metrics.r2_score(y_test_entire, y_test_entire_pred)\n",
    "result['rmse_test'] = np.sqrt(metrics.mean_squared_error(y_test_entire, y_test_entire_pred))\n",
    "result['rpd_test'] = np.std(y_test_entire)/np.sqrt(metrics.mean_squared_error(y_test_entire, y_test_entire_pred)) # 加[0]是为了去掉表头\n",
    "result['rpiq_test'] = (np.percentile(y_test_entire, (25, 75))[1]-np.percentile(y_test_entire, (25, 75))[0])/np.sqrt(metrics.mean_squared_error(y_test_entire, y_test_entire_pred))\n",
    "\n",
    "result"
   ]
  },
  {
   "cell_type": "code",
   "execution_count": 23,
   "metadata": {},
   "outputs": [],
   "source": [
    "result.to_csv('D:\\\\1 博后期间\\\\papers\\\\CRU_meta-analysis\\\\global_analysis\\\\data_for_modeling\\\\modeling\\\\cross-validation\\\\results\\\\performance_pls_nue_entire.csv')"
   ]
  },
  {
   "cell_type": "code",
   "execution_count": 24,
   "metadata": {},
   "outputs": [],
   "source": [
    "# 重新排列预测数据和实测数据-rice\n",
    "y_train_rice_new = pd.DataFrame(y_train_rice)\n",
    "y_train_rice_new['predicted'] = y_train_rice_pred \n",
    "y_train_rice_new['set'] = 'Calibration set'\n",
    "y_train_rice_new['crop'] = 'Paddy rice'\n",
    "y_train_rice_new.columns = ['measured', 'predicted', 'set', 'crop']\n",
    "\n",
    "y_test_rice_new = pd.DataFrame(y_test_rice)\n",
    "y_test_rice_new['predicted'] = y_test_rice_pred \n",
    "y_test_rice_new['set'] = 'Validation set'\n",
    "y_test_rice_new['crop'] = 'Paddy rice'\n",
    "y_test_rice_new.columns = ['measured', 'predicted', 'set', 'crop']\n",
    "y_test_rice_new\n",
    "\n",
    "Predicted_to_Measured_rice = pd.concat([y_train_rice_new, y_test_rice_new])\n",
    "\n",
    "\n",
    "\n",
    "# 重新排列预测数据和实测数据-wheat\n",
    "y_train_wheat_new = pd.DataFrame(y_train_wheat)\n",
    "y_train_wheat_new['predicted'] = y_train_wheat_pred \n",
    "y_train_wheat_new['set'] = 'Calibration set'\n",
    "y_train_wheat_new['crop'] = 'Wheat'\n",
    "y_train_wheat_new.columns = ['measured', 'predicted', 'set', 'crop']\n",
    "\n",
    "y_test_wheat_new = pd.DataFrame(y_test_wheat)\n",
    "y_test_wheat_new['predicted'] = y_test_wheat_pred \n",
    "y_test_wheat_new['set'] = 'Validation set'\n",
    "y_test_wheat_new['crop'] = 'Wheat'\n",
    "y_test_wheat_new.columns = ['measured', 'predicted', 'set', 'crop']\n",
    "y_test_wheat_new\n",
    "\n",
    "Predicted_to_Measured_wheat = pd.concat([y_train_wheat_new, y_test_wheat_new])\n",
    "\n",
    "\n",
    "\n",
    "# 重新排列预测数据和实测数据-wheat\n",
    "y_train_maize_new = pd.DataFrame(y_train_maize)\n",
    "y_train_maize_new['predicted'] = y_train_maize_pred \n",
    "y_train_maize_new['set'] = 'Calibration set'\n",
    "y_train_maize_new['crop'] = 'Maize'\n",
    "y_train_maize_new.columns = ['measured', 'predicted', 'set', 'crop']\n",
    "\n",
    "y_test_maize_new = pd.DataFrame(y_test_maize)\n",
    "y_test_maize_new['predicted'] = y_test_maize_pred \n",
    "y_test_maize_new['set'] = 'Validation set'\n",
    "y_test_maize_new['crop'] = 'Maize'\n",
    "y_test_maize_new.columns = ['measured', 'predicted', 'set', 'crop']\n",
    "y_test_maize_new\n",
    "\n",
    "Predicted_to_Measured_maize = pd.concat([y_train_maize_new, y_test_maize_new])\n",
    "\n",
    "\n",
    "Predicted_to_Measured = pd.concat([Predicted_to_Measured_rice, Predicted_to_Measured_wheat, Predicted_to_Measured_maize])\n",
    "Predicted_to_Measured.to_csv('D:\\\\1 博后期间\\\\papers\\\\CRU_meta-analysis\\\\global_analysis\\\\data_for_modeling\\\\modeling\\\\cross-validation\\\\results\\\\\\\\predicted_vs_measured_pls_nue_split.csv')"
   ]
  },
  {
   "cell_type": "markdown",
   "metadata": {},
   "source": [
    "## entire"
   ]
  },
  {
   "cell_type": "code",
   "execution_count": 25,
   "metadata": {},
   "outputs": [],
   "source": [
    "# 重新排列预测数据和实测数据\n",
    "y_train_entire_new = pd.DataFrame(y_train_entire)\n",
    "y_train_entire_new['predicted'] = y_train_entire_pred \n",
    "y_train_entire_new['set'] = 'Calibration set'\n",
    "y_train_entire_new.columns = ['measured', 'predicted', 'set']\n",
    "\n",
    "y_test_entire_new = pd.DataFrame(y_test_entire)\n",
    "y_test_entire_new['predicted'] = y_test_entire_pred \n",
    "y_test_entire_new['set'] = 'Validation set'\n",
    "y_test_entire_new.columns = ['measured', 'predicted', 'set']\n",
    "y_test_entire_new\n",
    "\n",
    "Predicted_to_Measured_entire = pd.concat([y_train_entire_new, y_test_entire_new])\n",
    "Predicted_to_Measured_entire.to_csv('D:\\\\1 博后期间\\\\papers\\\\CRU_meta-analysis\\\\global_analysis\\\\data_for_modeling\\\\modeling\\\\cross-validation\\\\results\\\\predicted_vs_measured_pls_nue_entire.csv')"
   ]
  },
  {
   "cell_type": "code",
   "execution_count": null,
   "metadata": {},
   "outputs": [],
   "source": []
  }
 ],
 "metadata": {
  "kernelspec": {
   "display_name": "Python 3",
   "language": "python",
   "name": "python3"
  },
  "language_info": {
   "codemirror_mode": {
    "name": "ipython",
    "version": 3
   },
   "file_extension": ".py",
   "mimetype": "text/x-python",
   "name": "python",
   "nbconvert_exporter": "python",
   "pygments_lexer": "ipython3",
   "version": "3.7.0"
  }
 },
 "nbformat": 4,
 "nbformat_minor": 2
}
